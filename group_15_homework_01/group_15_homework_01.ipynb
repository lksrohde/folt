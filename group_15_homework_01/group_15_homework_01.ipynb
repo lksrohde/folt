{
 "cells": [
  {
   "cell_type": "markdown",
   "id": "9a5451cd",
   "metadata": {
    "pycharm": {
     "name": "#%% md\n"
    }
   },
   "source": [
    "# Foundations of Language Technology 2022/23"
   ]
  },
  {
   "cell_type": "markdown",
   "id": "0a20c811-2b73-45f4-9855-14398f25c049",
   "metadata": {
    "pycharm": {
     "name": "#%% md\n"
    }
   },
   "source": [
    "## Homework 1\n",
    "\n",
    "The deadline for group selection on Moodle is on November 7th 2022. \n",
    "\n",
    "Please send your solution as a zip-file containing all files that were provided for this homework (*.ipynb). Please include all files that are needed to run your submission, and all additional files that we ask for in the tasks. Include comments in your program code to make it easier readable.\n",
    "\n",
    "**Naming template: Group_X_homework_Y.ipynb, Group_X_homework_Y.zip**\n",
    "\n",
    "Please replace X with your group number and Y with the homework number. Submissions that do not follow these rules will not be considered. \n",
    "\n",
    "Please only modify the template in the specified markdown and code cells (e.g. `YOUR CODE / ANSWER / IMPORTS HERE`). \n",
    "Some cells are left blank on purpose. Please do not modify these cells, because they are used to autograde your submission. If these cells are modified, the automatic grading for your submission will fail. Please do not modify the cells containing public and private tests. If you want to do your own tests, please use the code cell containing your code solution (`YOUR CODE HERE`).\n",
    "\n",
    "The deadline for the homework is **Friday, 18/11/2022**. Late submissions will not be accepted."
   ]
  },
  {
   "cell_type": "code",
   "execution_count": 3,
   "id": "d5845c3c-a16d-4794-9f82-864781a63741",
   "metadata": {
    "pycharm": {
     "name": "#%%\n"
    }
   },
   "outputs": [
    {
     "ename": "ModuleNotFoundError",
     "evalue": "No module named 'nltk'",
     "output_type": "error",
     "traceback": [
      "\u001B[0;31m---------------------------------------------------------------------------\u001B[0m",
      "\u001B[0;31mModuleNotFoundError\u001B[0m                       Traceback (most recent call last)",
      "Input \u001B[0;32mIn [3]\u001B[0m, in \u001B[0;36m<cell line: 3>\u001B[0;34m()\u001B[0m\n\u001B[1;32m      1\u001B[0m \u001B[38;5;66;03m# YOUR IMPORTS HERE\u001B[39;00m\n\u001B[1;32m      2\u001B[0m \u001B[38;5;28;01mimport\u001B[39;00m \u001B[38;5;21;01mre\u001B[39;00m\n\u001B[0;32m----> 3\u001B[0m \u001B[38;5;28;01mimport\u001B[39;00m \u001B[38;5;21;01mnltk\u001B[39;00m\n\u001B[1;32m      4\u001B[0m \u001B[38;5;28;01mfrom\u001B[39;00m \u001B[38;5;21;01mnltk\u001B[39;00m\u001B[38;5;21;01m.\u001B[39;00m\u001B[38;5;21;01mbook\u001B[39;00m \u001B[38;5;28;01mimport\u001B[39;00m \u001B[38;5;241m*\u001B[39m\n\u001B[1;32m      5\u001B[0m \u001B[38;5;28;01mimport\u001B[39;00m \u001B[38;5;21;01mcsv\u001B[39;00m\n",
      "\u001B[0;31mModuleNotFoundError\u001B[0m: No module named 'nltk'"
     ]
    }
   ],
   "source": [
    "# YOUR IMPORTS HERE\n",
    "import re\n",
    "import nltk\n",
    "from nltk.book import *\n",
    "import csv"
   ]
  },
  {
   "cell_type": "markdown",
   "id": "0c155320-4e0a-409b-b5b5-1ddf54b3111f",
   "metadata": {
    "deletable": false,
    "editable": false,
    "nbgrader": {
     "cell_type": "markdown",
     "checksum": "a7c77f71f54e9c2ae8ee7c4db749c75e",
     "grade": false,
     "grade_id": "cell-54c4c46d74090a86",
     "locked": true,
     "schema_version": 3,
     "solution": false,
     "task": false
    },
    "pycharm": {
     "name": "#%% md\n"
    },
    "tags": []
   },
   "source": [
    "--- \n",
    "### Task 1: Warm-up: Conditionals (3 points)"
   ]
  },
  {
   "cell_type": "markdown",
   "id": "ee2a5092-0e81-450c-9dfc-272b07d9bee4",
   "metadata": {
    "deletable": false,
    "editable": false,
    "nbgrader": {
     "cell_type": "markdown",
     "checksum": "c3a3e6bcc9909fc592cfcb8a88951875",
     "grade": false,
     "grade_id": "cell-0ce01a05e1ffe022",
     "locked": true,
     "points": 0,
     "schema_version": 3,
     "solution": false,
     "task": true
    },
    "pycharm": {
     "name": "#%% md\n"
    },
    "tags": []
   },
   "source": [
    "Write expressions for finding all words in *text1* (nltk.book) that meet the conditions listed below. The result should be in the form of a **list of words without duplicates** `result`: [’word1’, ’word2’, ...].\n",
    "* Starts with \"de\"\n",
    "* Having all lowercase letters\n",
    "* Ends with \"ed\"\n"
   ]
  },
  {
   "cell_type": "code",
   "execution_count": null,
   "outputs": [],
   "source": [
    "result = []\n",
    "pattern = re.compile(r\"^de[a-z]*ed$\")\n",
    "\n",
    "# Alternate solution:\n",
    "# result = sorted([w for w in set(text1) if w.startswith('de') and w.islower() and w.endswith('ed')])\n",
    "\n",
    "for word in set(text1):\n",
    "    found = pattern.match(word)\n",
    "    if found:\n",
    "        if found.group() not in result: result.append(found.group())\n",
    "\n",
    "print(result)"
   ],
   "metadata": {
    "collapsed": false,
    "pycharm": {
     "name": "#%%\n"
    }
   }
  },
  {
   "cell_type": "code",
   "execution_count": null,
   "outputs": [],
   "source": [
    "# PUBLIC TEST\n",
    "for w in result:\n",
    "    assert w.startswith(\"de\"), \"Doesn't start with 'de'\"\n",
    "    assert w.islower(), \"Is not lowercase\"\n",
    "    assert w.endswith(\"ed\"), \"Doesn't end with 'ed'\""
   ],
   "metadata": {
    "collapsed": false,
    "pycharm": {
     "name": "#%%\n"
    }
   }
  },
  {
   "cell_type": "code",
   "execution_count": null,
   "id": "adea982e",
   "metadata": {
    "deletable": false,
    "editable": false,
    "jupyter": {
     "outputs_hidden": false
    },
    "nbgrader": {
     "cell_type": "code",
     "checksum": "cce2ce29a2185a5fbf961679d64844cb",
     "grade": true,
     "grade_id": "cell-6224d71a878fee1b",
     "locked": true,
     "points": 1,
     "schema_version": 3,
     "solution": false,
     "task": false
    },
    "pycharm": {
     "name": "#%%\n"
    },
    "tags": []
   },
   "outputs": [],
   "source": [
    "# PRIVATE TESTS HAPPEN HERE, DO NOT MODIFY"
   ]
  },
  {
   "cell_type": "code",
   "execution_count": null,
   "id": "662c0996",
   "metadata": {
    "deletable": false,
    "editable": false,
    "jupyter": {
     "outputs_hidden": false
    },
    "nbgrader": {
     "cell_type": "code",
     "checksum": "68b8496e72eea97d1332d29811709683",
     "grade": true,
     "grade_id": "cell-063f7c34231086a1",
     "locked": true,
     "points": 1,
     "schema_version": 3,
     "solution": false,
     "task": false
    },
    "pycharm": {
     "name": "#%%\n"
    },
    "tags": []
   },
   "outputs": [],
   "source": [
    "# PRIVATE TESTS HAPPEN HERE, DO NOT MODIFY"
   ]
  },
  {
   "cell_type": "markdown",
   "id": "2a40c241",
   "metadata": {
    "deletable": false,
    "editable": false,
    "nbgrader": {
     "cell_type": "markdown",
     "checksum": "4602b9b68ab4735257fd51476e429587",
     "grade": false,
     "grade_id": "cell-7a2bc4cec47d52a5",
     "locked": true,
     "points": 0,
     "schema_version": 3,
     "solution": false,
     "task": true
    },
    "pycharm": {
     "name": "#%% md\n"
    },
    "tags": []
   },
   "source": [
    "--- \n",
    "### Task 2: Template-based Sentence Creation (6 points)\n",
    "Implement a function `sentence_creation` that receives three arguments, temperature, location, and time, and returns a string “The weather is `temperature` in `location` at `time`”, where the placeholders denote the respective values. The function should be able to take both strings (e.g. \"Chicago\") and integers (e.g. 9) as arguments. Call your function with the arguments temperature = \"miserable\", location = \"Chicago\", time = 9.\n",
    "\n"
   ]
  },
  {
   "cell_type": "code",
   "execution_count": null,
   "id": "9b69ec2c",
   "metadata": {
    "deletable": false,
    "jupyter": {
     "outputs_hidden": false
    },
    "nbgrader": {
     "cell_type": "code",
     "checksum": "b655b9c399f601ab3ada26df0182e21d",
     "grade": false,
     "grade_id": "cell-40111bafc15022cd",
     "locked": false,
     "schema_version": 3,
     "solution": true,
     "task": false
    },
    "pycharm": {
     "name": "#%%\n"
    },
    "tags": []
   },
   "outputs": [],
   "source": [
    "def sentence_creation(temperature, location, time):\n",
    "    \"\"\"\n",
    "    This function creates a sentence from 3 given string variables using a pre-defined template.\n",
    "    Parameters\n",
    "        ----------\n",
    "        temperature: int/str\n",
    "            indicates the temperature value, e.g. miserable / 29\n",
    "        location : int/str\n",
    "            indicates the location such as city, country, etc.\n",
    "        time: int/str\n",
    "            indicates the time of day, e.g. noon / 9\n",
    "         \n",
    "    \"\"\"\n",
    "    return f\"The weather is {temperature} in {location} at {time}\"\n",
    "\n",
    "sentence_creation(\"miserable\", \"Chicago\", 9)"
   ]
  },
  {
   "cell_type": "code",
   "execution_count": null,
   "id": "60cf94be",
   "metadata": {
    "deletable": false,
    "editable": false,
    "jupyter": {
     "outputs_hidden": false
    },
    "nbgrader": {
     "cell_type": "code",
     "checksum": "75b0a0404d1efc888a210e927908af9c",
     "grade": true,
     "grade_id": "cell-6f38e7f78c34c5bb",
     "locked": true,
     "points": 2,
     "schema_version": 3,
     "solution": false,
     "task": false
    },
    "pycharm": {
     "name": "#%%\n"
    },
    "tags": []
   },
   "outputs": [],
   "source": [
    "# PUBLIC TEST\n",
    "assert sentence_creation(\"miserable\", \"Chicago\", 9) == 'The weather is miserable in Chicago at 9', \"result incorrect / wrong types\""
   ]
  },
  {
   "cell_type": "code",
   "execution_count": null,
   "id": "f7f3803c",
   "metadata": {
    "deletable": false,
    "editable": false,
    "jupyter": {
     "outputs_hidden": false
    },
    "nbgrader": {
     "cell_type": "code",
     "checksum": "9f968bb722826d9e8edd3af43d494a64",
     "grade": true,
     "grade_id": "cell-df0a59c731ab22c4",
     "locked": true,
     "points": 2,
     "schema_version": 3,
     "solution": false,
     "task": false
    },
    "pycharm": {
     "name": "#%%\n"
    },
    "tags": []
   },
   "outputs": [],
   "source": [
    "# PRIVATE TESTS HAPPEN HERE, DO NOT MODIFY"
   ]
  },
  {
   "cell_type": "code",
   "execution_count": null,
   "id": "a9f572ee",
   "metadata": {
    "deletable": false,
    "editable": false,
    "jupyter": {
     "outputs_hidden": false
    },
    "nbgrader": {
     "cell_type": "code",
     "checksum": "7739ca15334bc5af738cca1538f07304",
     "grade": true,
     "grade_id": "cell-b05de47ae43a052d",
     "locked": true,
     "points": 2,
     "schema_version": 3,
     "solution": false,
     "task": false
    },
    "pycharm": {
     "name": "#%%\n"
    },
    "tags": []
   },
   "outputs": [],
   "source": [
    "# PRIVATE TESTS HAPPEN HERE, DO NOT MODIFY"
   ]
  },
  {
   "cell_type": "markdown",
   "id": "bf2659d9",
   "metadata": {
    "deletable": false,
    "editable": false,
    "nbgrader": {
     "cell_type": "markdown",
     "checksum": "7845d931e5e7b278d256efa687b8a10d",
     "grade": false,
     "grade_id": "cell-354d97a845563eb9",
     "locked": true,
     "points": 0,
     "schema_version": 3,
     "solution": false,
     "task": true
    },
    "pycharm": {
     "name": "#%% md\n"
    },
    "tags": []
   },
   "source": [
    "--- \n",
    "### Task 3: Transposed Letter Effect (12 points)\n",
    "The [transposed letter effect](https://en.wikipedia.org/wiki/Transposed_letter_effect) is a test of how a word is processed when two letters within the word are switched. This refers to the phenomenon in which a word can still be understood despite being permuted.\n",
    "\n",
    "Define a function `transposed_letter_effect` which receives a sequence of words (as a single string) and returns the sequence of words (as a single string) with transposed letters. The function should, ...\n",
    "* if the words are no longer than three letters, leave them as they are.\n",
    "* else, leave the first and last letter unchanged and shuffle all other letters.\n",
    "\n",
    "Apply the function to the sentence `sent1` below.\n",
    "\n",
    "*Hint: Use the `random.shuffle()` method which takes a sequence, like a list, and reorganizes the order of the items. Note that this method works on lists.*\n"
   ]
  },
  {
   "cell_type": "code",
   "execution_count": null,
   "id": "734cf539",
   "metadata": {
    "deletable": false,
    "jupyter": {
     "outputs_hidden": false
    },
    "nbgrader": {
     "cell_type": "code",
     "checksum": "f44cbb6b6b9ad195c352a216c18bae0d",
     "grade": false,
     "grade_id": "cell-1d3d1e7589954428",
     "locked": false,
     "schema_version": 3,
     "solution": true,
     "task": false
    },
    "pycharm": {
     "name": "#%%\n"
    },
    "tags": []
   },
   "outputs": [],
   "source": [
    "import random\n",
    "sent1 = \"If you can read this sentence without mistakes you are a genius\"\n",
    "\n",
    "\n",
    "def transposed_letter_effect(text):\n",
    "    \"\"\"\n",
    "    This function creates a new string from a given string, where the letters of longer words are randomly shuffled.\n",
    "    Parameters\n",
    "        ----------\n",
    "        text: str\n",
    "            The sentence to be transposed\n",
    "         \n",
    "    \"\"\"\n",
    "    words = text.split(\" \")\n",
    "    new_sent = []\n",
    "    for word in words:\n",
    "        if len(word) <= 3:\n",
    "            new_sent.append(word)\n",
    "            continue\n",
    "        word_list = list(word[1:-1])\n",
    "        random.shuffle(word_list)\n",
    "\n",
    "        new_sent.append(f\"{word[0]}{''.join(word_list)}{word[-1]}\")\n",
    "    return \" \".join(new_sent)\n",
    "\n",
    "transposed_letter_effect(sent1)"
   ]
  },
  {
   "cell_type": "code",
   "execution_count": null,
   "id": "52453322",
   "metadata": {
    "deletable": false,
    "editable": false,
    "jupyter": {
     "outputs_hidden": false
    },
    "nbgrader": {
     "cell_type": "code",
     "checksum": "716be863bfb13e4266708692602d2852",
     "grade": true,
     "grade_id": "cell-0760e1fd296427a6",
     "locked": true,
     "points": 2,
     "schema_version": 3,
     "solution": false,
     "task": false
    },
    "pycharm": {
     "name": "#%%\n"
    },
    "tags": []
   },
   "outputs": [],
   "source": [
    "# PUBLIC TEST\n",
    "assert type(transposed_letter_effect(sent1)) == str, \"incorrect parameter or return type\""
   ]
  },
  {
   "cell_type": "code",
   "execution_count": null,
   "id": "72844ebe",
   "metadata": {
    "deletable": false,
    "editable": false,
    "jupyter": {
     "outputs_hidden": false
    },
    "nbgrader": {
     "cell_type": "code",
     "checksum": "27d4b4b80672e95a7ce3a73148ac336d",
     "grade": true,
     "grade_id": "cell-d6944afbf5f5df49",
     "locked": true,
     "points": 6,
     "schema_version": 3,
     "solution": false,
     "task": false
    },
    "pycharm": {
     "name": "#%%\n"
    },
    "tags": []
   },
   "outputs": [],
   "source": [
    "# PRIVATE TESTS HAPPEN HERE, DO NOT MODIFY"
   ]
  },
  {
   "cell_type": "code",
   "execution_count": null,
   "id": "444056fd",
   "metadata": {
    "deletable": false,
    "editable": false,
    "jupyter": {
     "outputs_hidden": false
    },
    "nbgrader": {
     "cell_type": "code",
     "checksum": "b5b55daa029e0076ea43fda77613d72a",
     "grade": true,
     "grade_id": "cell-be0fab43c4ce11ff",
     "locked": true,
     "points": 4,
     "schema_version": 3,
     "solution": false,
     "task": false
    },
    "pycharm": {
     "name": "#%%\n"
    },
    "tags": []
   },
   "outputs": [],
   "source": [
    "# PRIVATE TESTS HAPPEN HERE, DO NOT MODIFY"
   ]
  },
  {
   "cell_type": "markdown",
   "id": "0180b499",
   "metadata": {
    "deletable": false,
    "editable": false,
    "nbgrader": {
     "cell_type": "markdown",
     "checksum": "492b2685aa0c4eaaf2d8ff3c502f014b",
     "grade": false,
     "grade_id": "cell-3ae98d5881322bbd",
     "locked": true,
     "points": 0,
     "schema_version": 3,
     "solution": false,
     "task": true
    },
    "pycharm": {
     "name": "#%% md\n"
    },
    "tags": []
   },
   "source": [
    "--- \n",
    "### Task 4: Reading Files (17 points)\n",
    "Read the file `german_text.txt` which was downloaded with this homework notebook. \n",
    "* (a) Write a function `read_german` which opens and reads a file line-by-line into a list of strings, i.e. one string in the list corresponds to one line of the file. The function should use an encoding which supports the special characters (umlaute) of german text.\n",
    "* (b) Write a function `write_german` that writes a [`csv` file](https://www.pythontutorial.net/python-basics/python-write-csv-file/) (Comma-separated values file) `german_text_analysis.csv`, \n",
    "* (c) where each line refers to one line in the `german_text.txt`. Please also use an encoding supporting umlaute for this function.\n",
    "* (d) Each line consists of 3 comma-separated values: \n",
    "* (e) the line, the length (i.e. number) of the tokens in this line that are space separated, \n",
    "* (f) and the lexical richness of the line in percent, i.e. the range of the vocabulary\n"
   ]
  },
  {
   "cell_type": "code",
   "execution_count": null,
   "id": "0e5cf91a",
   "metadata": {
    "deletable": false,
    "jupyter": {
     "outputs_hidden": false
    },
    "nbgrader": {
     "cell_type": "code",
     "checksum": "8a902b41d82301c817e7cdf5a0ad8ae6",
     "grade": true,
     "grade_id": "cell-80dc314bdfe9613b",
     "locked": false,
     "points": 0,
     "schema_version": 3,
     "solution": true,
     "task": false
    },
    "pycharm": {
     "name": "#%%\n"
    },
    "tags": []
   },
   "outputs": [],
   "source": [
    "def read_german(filename):\n",
    "    \"\"\"\n",
    "    Read a file given a file path. Returns the line-by-line contents of the file as a list of strings.\n",
    "    \n",
    "    Parameters\n",
    "    ----\n",
    "    filename: str\n",
    "        path to the file location\n",
    "    \"\"\"\n",
    "    lines = []\n",
    "    for line in open(filename, encoding=\"UTF-8\"):\n",
    "        lines.append(line)\n",
    "\n",
    "    return lines\n",
    "\n",
    "print(read_german(\"german_text.txt\"))\n",
    "\n",
    "def write_german(text_lines, new_filename):\n",
    "    \"\"\"\n",
    "    Write a list of lines to a file.\n",
    "    \n",
    "    Parameters\n",
    "    ----\n",
    "    text_lines: list\n",
    "        list of strings, each string is a text line\n",
    "    new_filename: str\n",
    "        path to the file location\n",
    "    \"\"\"\n",
    "    with open(new_filename, encoding=\"UTF-8\", mode=\"w\") as csv_file:\n",
    "        writer = csv.writer(csv_file)\n",
    "        writer.writerow([\"Line\", \"Length\", \"Lexical richness\"])\n",
    "        for row in text_lines:\n",
    "            writer.writerow([row, len(row.split(\" \")), lexical_richness(row)])\n",
    "       \n",
    "def lexical_richness(text):\n",
    "    score = len(set(text)) / len(text)\n",
    "    score *= 100\n",
    "    return score\n",
    "\n",
    "# Run the function\n",
    "write_german(read_german(\"german_text.txt\"), \"german_text_analysis.csv\")"
   ]
  },
  {
   "cell_type": "code",
   "execution_count": null,
   "id": "aa9eadfc",
   "metadata": {
    "deletable": false,
    "editable": false,
    "jupyter": {
     "outputs_hidden": false
    },
    "nbgrader": {
     "cell_type": "code",
     "checksum": "82ed6113ffb4549899859dc02278b3c1",
     "grade": true,
     "grade_id": "cell-bb5acbf5a459a2e2",
     "locked": true,
     "points": 1,
     "schema_version": 3,
     "solution": false,
     "task": false
    },
    "pycharm": {
     "name": "#%%\n"
    },
    "tags": []
   },
   "outputs": [],
   "source": [
    "# PUBLIC TEST\n",
    "out = read_german(\"german_text.txt\")\n",
    "assert type(out) == list\n",
    "assert type(out[0]) == str"
   ]
  },
  {
   "cell_type": "code",
   "execution_count": null,
   "id": "d2ed6ad0",
   "metadata": {
    "deletable": false,
    "editable": false,
    "jupyter": {
     "outputs_hidden": false
    },
    "nbgrader": {
     "cell_type": "code",
     "checksum": "e76b1c0b5800f106ab969039571ab19d",
     "grade": true,
     "grade_id": "cell-f771457a0d78307e",
     "locked": true,
     "points": 3,
     "schema_version": 3,
     "solution": false,
     "task": false
    },
    "pycharm": {
     "name": "#%%\n"
    },
    "tags": []
   },
   "outputs": [],
   "source": [
    "# PRIVATE TESTS HAPPEN HERE, DO NOT MODIFY"
   ]
  },
  {
   "cell_type": "code",
   "execution_count": null,
   "id": "2baf884b",
   "metadata": {
    "deletable": false,
    "editable": false,
    "jupyter": {
     "outputs_hidden": false
    },
    "nbgrader": {
     "cell_type": "code",
     "checksum": "ca16b615a6a66e3e1aded974f62d530b",
     "grade": true,
     "grade_id": "cell-70100bf0f24587ef",
     "locked": true,
     "points": 2,
     "schema_version": 3,
     "solution": false,
     "task": false
    },
    "pycharm": {
     "name": "#%%\n"
    },
    "tags": []
   },
   "outputs": [],
   "source": [
    "# PRIVATE TESTS HAPPEN HERE, DO NOT MODIFY"
   ]
  },
  {
   "cell_type": "code",
   "execution_count": null,
   "id": "f9cacffb",
   "metadata": {
    "deletable": false,
    "editable": false,
    "jupyter": {
     "outputs_hidden": false
    },
    "nbgrader": {
     "cell_type": "code",
     "checksum": "a06a5c2648b05b7b3927ae5b89a460b2",
     "grade": true,
     "grade_id": "cell-308b7408ef11b7e3",
     "locked": true,
     "points": 9,
     "schema_version": 3,
     "solution": false,
     "task": false
    },
    "pycharm": {
     "name": "#%%\n"
    },
    "tags": []
   },
   "outputs": [],
   "source": [
    "# PRIVATE TESTS HAPPEN HERE, DO NOT MODIFY"
   ]
  },
  {
   "cell_type": "code",
   "execution_count": null,
   "id": "18894dd3",
   "metadata": {
    "deletable": false,
    "editable": false,
    "jupyter": {
     "outputs_hidden": false
    },
    "nbgrader": {
     "cell_type": "code",
     "checksum": "0eae6991675c1bf3d138ccc62e8bf522",
     "grade": true,
     "grade_id": "cell-bdad9fc3a5538be3",
     "locked": true,
     "points": 2,
     "schema_version": 3,
     "solution": false,
     "task": false
    },
    "pycharm": {
     "name": "#%%\n"
    },
    "tags": []
   },
   "outputs": [],
   "source": [
    "# PRIVATE TESTS HAPPEN HERE, DO NOT MODIFY"
   ]
  },
  {
   "cell_type": "markdown",
   "id": "528f953e",
   "metadata": {
    "deletable": false,
    "editable": false,
    "nbgrader": {
     "cell_type": "markdown",
     "checksum": "577bfab2308322be84e0c69799d3c2fc",
     "grade": false,
     "grade_id": "cell-6dd5f2f7a7cdc5aa",
     "locked": true,
     "points": 0,
     "schema_version": 3,
     "solution": false,
     "task": true
    },
    "pycharm": {
     "name": "#%% md\n"
    },
    "tags": []
   },
   "source": [
    "--- \n",
    "### Task 5: NLTK, Bigrams & Frequencies (14 points)\n",
    "* (a) Write a function `remove_punctuation` that takes a list of strings and removes all occurences of the punctuation marks `. , ; ( ) ! ] [ ? ' / \"`. The function should return a list of strings with no punctuation. All strings in the returned list should be converted to lowercase.\n",
    "* (b) Trigrams are sequences of three neighboring words. Write a function `trigrams` that returns all trigrams in a given list of strings. The trigrams should be returned as a list of 3-tuples.\n",
    "* (c) Write a function `trigram_frequency` to compute the frequencies of all trigrams. The function should take a list of trigrams and count the number of occurences of the trigrams. It should return a dictionary with the trigrams as keys and the number of occurences of the trigrams as values.\n",
    "* (d) Apply your function `remove_punctuation` to text4 of the nltk book corpus and store the resulting list in the variable `words`. \n",
    "* (e) Apply the `trigrams` function to the list `words` and store the resulting list in the variable `trigram_list`.\n",
    "* (f) Apply the `trigram_frequency` function to the list `trigram_list` and store the resulting dict in the variable `trigram_frequency_dict`.\n",
    "* (g) Output the 10 most frequent trigrams of text4 and their counts using the `trigram_frequency_dict` dict. Store the result in the variable `top_10_trigrams` and print it.\n"
   ]
  },
  {
   "cell_type": "code",
   "execution_count": null,
   "id": "58e3287c",
   "metadata": {
    "deletable": false,
    "jupyter": {
     "outputs_hidden": false
    },
    "nbgrader": {
     "cell_type": "code",
     "checksum": "24116c54988fafff4f5111b8f516367d",
     "grade": false,
     "grade_id": "cell-14e49dc6456e8945",
     "locked": false,
     "schema_version": 3,
     "solution": true,
     "task": false
    },
    "pycharm": {
     "name": "#%%\n"
    },
    "tags": []
   },
   "outputs": [],
   "source": [
    "# a\n",
    "def remove_punctuation(text):\n",
    "    \"\"\"\n",
    "    Removes all punctuation from a given text. Returns a list of strings where every word is in lowercase.\n",
    "    \n",
    "    Parameters\n",
    "    ----\n",
    "    text: list\n",
    "        list of strings to be modified\n",
    "    \"\"\"\n",
    "    cleaned_strings = []\n",
    "    for word in text:\n",
    "        word = word.rstrip(\".,;()!][?'/\\\"\")\n",
    "        word = word.lower()\n",
    "        if word == \"\": continue\n",
    "        cleaned_strings.append(word)\n",
    "\n",
    "    return cleaned_strings\n",
    "\n",
    "# b\n",
    "def trigrams(text):\n",
    "    \"\"\"\n",
    "    Retrieves all trigrams from a given text. Returns a list of 3-tuples.\n",
    "    \n",
    "    Parameters\n",
    "    ----\n",
    "    text: list\n",
    "        list of strings\n",
    "    \"\"\"\n",
    "    trigrams = []\n",
    "    i = 0\n",
    "    while i < len(text) - 2:\n",
    "        trigrams.append((text[i], text[i + 1], text[i + 2]))\n",
    "        i += 1\n",
    "    return trigrams\n",
    "\n",
    "# c\n",
    "def trigram_frequency(list_of_trigrams):\n",
    "    \"\"\"\n",
    "    Counts the occurences of each trigram in a list of trigrams. Returns a dictionary.\n",
    "    \n",
    "    Parameters\n",
    "    ----\n",
    "    list_of_trigrams: list\n",
    "        list of trigrams\n",
    "    \"\"\"\n",
    "    trigram_dict = {}\n",
    "    for trigram in list_of_trigrams:\n",
    "        trigram = str(trigram)\n",
    "        if trigram in trigram_dict.keys():\n",
    "            trigram_dict[trigram] += 1\n",
    "        else:\n",
    "            trigram_dict[trigram] = 1\n",
    "    return trigram_dict\n",
    "\n",
    "# d\n",
    "words = remove_punctuation(text4)\n",
    "# e\n",
    "trigram_list = trigrams(words)\n",
    "# f\n",
    "trigram_frequency_dict = trigram_frequency(trigram_list)\n",
    "# g\n",
    "top_10_trigrams = sorted(trigram_frequency_dict.items(),key= lambda x : x[1], reverse=True)[:10]\n",
    "print(top_10_trigrams)"
   ]
  },
  {
   "cell_type": "code",
   "execution_count": null,
   "id": "7b0688a8",
   "metadata": {
    "deletable": false,
    "editable": false,
    "jupyter": {
     "outputs_hidden": false
    },
    "nbgrader": {
     "cell_type": "code",
     "checksum": "19c4ade6227d7f07d39495fe7aa5c33e",
     "grade": true,
     "grade_id": "cell-b9f6ab23c2f334b4",
     "locked": true,
     "points": 2,
     "schema_version": 3,
     "solution": false,
     "task": false
    },
    "pycharm": {
     "name": "#%%\n"
    },
    "tags": []
   },
   "outputs": [],
   "source": [
    "# PUBLIC TEST\n",
    "assert remove_punctuation([\".\",\";\",\",\", \"(\", \")\", \"!\", \"]\", \"[\", \"?\", \"'\", \"/\", '\"']) == [], \"Punctuation removal incorrect\"\n",
    "\n",
    "assert remove_punctuation([\"THIS\", \"Is\", \"A\", \"teST\", \"!\"]) == [\"this\", \"is\", \"a\", \"test\"], \"Conversion incorrect\""
   ]
  },
  {
   "cell_type": "code",
   "execution_count": null,
   "id": "765d499c",
   "metadata": {
    "deletable": false,
    "editable": false,
    "jupyter": {
     "outputs_hidden": false
    },
    "nbgrader": {
     "cell_type": "code",
     "checksum": "5c6de0a887813fc2cdf2af882f0f7ac5",
     "grade": true,
     "grade_id": "cell-26fbca4aa347a9d1",
     "locked": true,
     "points": 4,
     "schema_version": 3,
     "solution": false,
     "task": false
    },
    "pycharm": {
     "name": "#%%\n"
    },
    "tags": []
   },
   "outputs": [],
   "source": [
    "# PRIVATE TESTS HAPPEN HERE, DO NOT MODIFY"
   ]
  },
  {
   "cell_type": "code",
   "execution_count": null,
   "id": "ff5a2511",
   "metadata": {
    "deletable": false,
    "editable": false,
    "jupyter": {
     "outputs_hidden": false
    },
    "nbgrader": {
     "cell_type": "code",
     "checksum": "4d7708f1f4a975319bb3cf105230320e",
     "grade": true,
     "grade_id": "cell-b7da43fee93e0137",
     "locked": true,
     "points": 3,
     "schema_version": 3,
     "solution": false,
     "task": false
    },
    "pycharm": {
     "name": "#%%\n"
    },
    "tags": []
   },
   "outputs": [],
   "source": [
    "# PRIVATE TESTS HAPPEN HERE, DO NOT MODIFY"
   ]
  },
  {
   "cell_type": "code",
   "execution_count": null,
   "id": "cd7001e5",
   "metadata": {
    "deletable": false,
    "editable": false,
    "jupyter": {
     "outputs_hidden": false
    },
    "nbgrader": {
     "cell_type": "code",
     "checksum": "58b5764a970cd552165f98021908acbe",
     "grade": true,
     "grade_id": "cell-b2b45cebd56d4a50",
     "locked": true,
     "points": 1,
     "schema_version": 3,
     "solution": false,
     "task": false
    },
    "pycharm": {
     "name": "#%%\n"
    },
    "tags": []
   },
   "outputs": [],
   "source": [
    "# PRIVATE TESTS HAPPEN HERE, DO NOT MODIFY"
   ]
  },
  {
   "cell_type": "code",
   "execution_count": null,
   "id": "78abe2c9",
   "metadata": {
    "deletable": false,
    "editable": false,
    "jupyter": {
     "outputs_hidden": false
    },
    "nbgrader": {
     "cell_type": "code",
     "checksum": "9e6fa011039ba3e44ed2f2986e0876d8",
     "grade": true,
     "grade_id": "cell-b10e2bdf2f95a334",
     "locked": true,
     "points": 1,
     "schema_version": 3,
     "solution": false,
     "task": false
    },
    "pycharm": {
     "name": "#%%\n"
    },
    "tags": []
   },
   "outputs": [],
   "source": [
    "# PRIVATE TESTS HAPPEN HERE, DO NOT MODIFY"
   ]
  },
  {
   "cell_type": "code",
   "execution_count": null,
   "id": "d1534ecc",
   "metadata": {
    "deletable": false,
    "editable": false,
    "jupyter": {
     "outputs_hidden": false
    },
    "nbgrader": {
     "cell_type": "code",
     "checksum": "6c16de7fe9da42eb9d973465176e95c7",
     "grade": true,
     "grade_id": "cell-0963884d45610c05",
     "locked": true,
     "points": 1,
     "schema_version": 3,
     "solution": false,
     "task": false
    },
    "pycharm": {
     "name": "#%%\n"
    },
    "tags": []
   },
   "outputs": [],
   "source": [
    "# PRIVATE TESTS HAPPEN HERE, DO NOT MODIFY"
   ]
  },
  {
   "cell_type": "code",
   "execution_count": null,
   "id": "858a92e6",
   "metadata": {
    "deletable": false,
    "editable": false,
    "jupyter": {
     "outputs_hidden": false
    },
    "nbgrader": {
     "cell_type": "code",
     "checksum": "00138aff015fe471fbc2b6d183feefd7",
     "grade": true,
     "grade_id": "cell-96c431c00bf0d468",
     "locked": true,
     "points": 2,
     "schema_version": 3,
     "solution": false,
     "task": false
    },
    "pycharm": {
     "name": "#%%\n"
    },
    "tags": []
   },
   "outputs": [],
   "source": [
    "# PRIVATE TESTS HAPPEN HERE, DO NOT MODIFY"
   ]
  }
 ],
 "metadata": {
  "kernelspec": {
   "name": "python3",
   "language": "python",
   "display_name": "Python 3 (ipykernel)"
  },
  "language_info": {
   "codemirror_mode": {
    "name": "ipython",
    "version": 3
   },
   "file_extension": ".py",
   "mimetype": "text/x-python",
   "name": "python",
   "nbconvert_exporter": "python",
   "pygments_lexer": "ipython3",
   "version": "3.8.13"
  }
 },
 "nbformat": 4,
 "nbformat_minor": 5
}